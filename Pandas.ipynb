{
 "cells": [
  {
   "cell_type": "markdown",
   "id": "fe745203",
   "metadata": {},
   "source": [
    "# Pandas Library For Data Exploration"
   ]
  },
  {
   "cell_type": "code",
   "execution_count": 1,
   "id": "2b5e4000",
   "metadata": {},
   "outputs": [],
   "source": [
    "import pandas as pd"
   ]
  },
  {
   "cell_type": "markdown",
   "id": "7e757ba4",
   "metadata": {},
   "source": [
    "# series create, explore, manipulate,querry,delete"
   ]
  },
  {
   "cell_type": "code",
   "execution_count": 6,
   "id": "60c9cff4",
   "metadata": {},
   "outputs": [
    {
     "data": {
      "text/plain": [
       "0    0\n",
       "1    1\n",
       "2    2\n",
       "3    3\n",
       "4    4\n",
       "dtype: int64"
      ]
     },
     "execution_count": 6,
     "metadata": {},
     "output_type": "execute_result"
    }
   ],
   "source": [
    "arr = [0, 1, 2, 3, 4]\n",
    "s1 = pd.Series(arr)\n",
    "s1"
   ]
  },
  {
   "cell_type": "code",
   "execution_count": 7,
   "id": "c4ea28e3",
   "metadata": {},
   "outputs": [
    {
     "data": {
      "text/plain": [
       "1    0\n",
       "2    1\n",
       "3    2\n",
       "4    3\n",
       "5    4\n",
       "dtype: int64"
      ]
     },
     "execution_count": 7,
     "metadata": {},
     "output_type": "execute_result"
    }
   ],
   "source": [
    "order = [1, 2, 3, 4, 5]\n",
    "s2 = pd.Series(arr, index=order)\n",
    "s2"
   ]
  },
  {
   "cell_type": "code",
   "execution_count": 9,
   "id": "d1eda806",
   "metadata": {},
   "outputs": [
    {
     "data": {
      "text/plain": [
       "array([-0.57131295, -1.30436093, -1.15195031, -0.77741463,  0.37156066])"
      ]
     },
     "execution_count": 9,
     "metadata": {},
     "output_type": "execute_result"
    }
   ],
   "source": [
    "import numpy as np\n",
    "n=np.random.randn(5)\n",
    "n"
   ]
  },
  {
   "cell_type": "code",
   "execution_count": 10,
   "id": "8cd02b2e",
   "metadata": {},
   "outputs": [
    {
     "data": {
      "text/plain": [
       "a    0.281543\n",
       "b    0.370618\n",
       "c   -0.020243\n",
       "d    1.150719\n",
       "e    1.911862\n",
       "dtype: float64"
      ]
     },
     "execution_count": 10,
     "metadata": {},
     "output_type": "execute_result"
    }
   ],
   "source": [
    "n=np.random.randn(5)\n",
    "index = ['a','b','c','d','e']\n",
    "s2 = pd.Series(n, index=index)\n",
    "s2"
   ]
  },
  {
   "cell_type": "code",
   "execution_count": 11,
   "id": "904ba8ba",
   "metadata": {},
   "outputs": [
    {
     "data": {
      "text/plain": [
       "a    1\n",
       "b    2\n",
       "c    3\n",
       "d    4\n",
       "e    5\n",
       "dtype: int64"
      ]
     },
     "execution_count": 11,
     "metadata": {},
     "output_type": "execute_result"
    }
   ],
   "source": [
    "#create series from dictionary\n",
    "d={'a':1,'b':2,'c':3,'d':4,'e':5}\n",
    "s3 = pd.Series(d)\n",
    "s3"
   ]
  },
  {
   "cell_type": "code",
   "execution_count": 13,
   "id": "323dfbcc",
   "metadata": {},
   "outputs": [
    {
     "name": "stdout",
     "output_type": "stream",
     "text": [
      "0    0\n",
      "1    1\n",
      "2    2\n",
      "3    3\n",
      "4    4\n",
      "dtype: int64\n"
     ]
    },
    {
     "data": {
      "text/plain": [
       "A    0\n",
       "B    1\n",
       "C    2\n",
       "D    3\n",
       "E    4\n",
       "dtype: int64"
      ]
     },
     "execution_count": 13,
     "metadata": {},
     "output_type": "execute_result"
    }
   ],
   "source": [
    "# you can modify the index of series\n",
    "print(s1)\n",
    "s1.index = ['A','B','C','D','E']\n",
    "s1"
   ]
  },
  {
   "cell_type": "code",
   "execution_count": 17,
   "id": "8d3d53d7",
   "metadata": {},
   "outputs": [
    {
     "data": {
      "text/plain": [
       "A    0\n",
       "B    1\n",
       "C    2\n",
       "dtype: int64"
      ]
     },
     "execution_count": 17,
     "metadata": {},
     "output_type": "execute_result"
    }
   ],
   "source": [
    "# slicing\n",
    "a=s1[:3]\n",
    "a"
   ]
  },
  {
   "cell_type": "code",
   "execution_count": 18,
   "id": "17653a7b",
   "metadata": {},
   "outputs": [
    {
     "data": {
      "text/plain": [
       "C    2\n",
       "D    3\n",
       "E    4\n",
       "dtype: int64"
      ]
     },
     "execution_count": 18,
     "metadata": {},
     "output_type": "execute_result"
    }
   ],
   "source": [
    "s1[2:]"
   ]
  },
  {
   "cell_type": "code",
   "execution_count": 19,
   "id": "0b889ae8",
   "metadata": {},
   "outputs": [
    {
     "data": {
      "text/plain": [
       "A    0\n",
       "B    1\n",
       "C    2\n",
       "D    3\n",
       "E    4\n",
       "a    1\n",
       "b    2\n",
       "c    3\n",
       "d    4\n",
       "e    5\n",
       "dtype: int64"
      ]
     },
     "execution_count": 19,
     "metadata": {},
     "output_type": "execute_result"
    }
   ],
   "source": [
    "s4 = s1.append(s3)\n",
    "s4    "
   ]
  },
  {
   "cell_type": "code",
   "execution_count": 20,
   "id": "afbeec9a",
   "metadata": {},
   "outputs": [
    {
     "data": {
      "text/plain": [
       "A    0\n",
       "B    1\n",
       "C    2\n",
       "D    3\n",
       "E    4\n",
       "a    1\n",
       "b    2\n",
       "c    3\n",
       "d    4\n",
       "dtype: int64"
      ]
     },
     "execution_count": 20,
     "metadata": {},
     "output_type": "execute_result"
    }
   ],
   "source": [
    "s4.drop('e')"
   ]
  },
  {
   "cell_type": "markdown",
   "id": "5be530fe",
   "metadata": {},
   "source": [
    "# Series operations"
   ]
  },
  {
   "cell_type": "code",
   "execution_count": 21,
   "id": "33043868",
   "metadata": {},
   "outputs": [],
   "source": [
    "arr1=[0, 1, 2, 3, 4, 5, 7]\n",
    "arr2=[6, 7, 8, 9, 5]"
   ]
  },
  {
   "cell_type": "code",
   "execution_count": 22,
   "id": "ce304e7c",
   "metadata": {},
   "outputs": [
    {
     "data": {
      "text/plain": [
       "0    6\n",
       "1    7\n",
       "2    8\n",
       "3    9\n",
       "4    5\n",
       "dtype: int64"
      ]
     },
     "execution_count": 22,
     "metadata": {},
     "output_type": "execute_result"
    }
   ],
   "source": [
    "s5=pd.Series(arr2)\n",
    "s5"
   ]
  },
  {
   "cell_type": "code",
   "execution_count": 23,
   "id": "65cba935",
   "metadata": {},
   "outputs": [
    {
     "data": {
      "text/plain": [
       "0    0\n",
       "1    1\n",
       "2    2\n",
       "3    3\n",
       "4    4\n",
       "5    5\n",
       "6    7\n",
       "dtype: int64"
      ]
     },
     "execution_count": 23,
     "metadata": {},
     "output_type": "execute_result"
    }
   ],
   "source": [
    "s6 = pd.Series(arr1)\n",
    "s6"
   ]
  },
  {
   "cell_type": "code",
   "execution_count": 24,
   "id": "781d2c89",
   "metadata": {},
   "outputs": [
    {
     "data": {
      "text/plain": [
       "0     6.0\n",
       "1     8.0\n",
       "2    10.0\n",
       "3    12.0\n",
       "4     9.0\n",
       "5     NaN\n",
       "6     NaN\n",
       "dtype: float64"
      ]
     },
     "execution_count": 24,
     "metadata": {},
     "output_type": "execute_result"
    }
   ],
   "source": [
    "s5.add(s6)"
   ]
  },
  {
   "cell_type": "code",
   "execution_count": 25,
   "id": "e3859462",
   "metadata": {},
   "outputs": [
    {
     "data": {
      "text/plain": [
       "0    6.0\n",
       "1    6.0\n",
       "2    6.0\n",
       "3    6.0\n",
       "4    1.0\n",
       "5    NaN\n",
       "6    NaN\n",
       "dtype: float64"
      ]
     },
     "execution_count": 25,
     "metadata": {},
     "output_type": "execute_result"
    }
   ],
   "source": [
    " s5.sub(s6)"
   ]
  },
  {
   "cell_type": "code",
   "execution_count": 26,
   "id": "964ad837",
   "metadata": {},
   "outputs": [
    {
     "data": {
      "text/plain": [
       "0     0.0\n",
       "1     7.0\n",
       "2    16.0\n",
       "3    27.0\n",
       "4    20.0\n",
       "5     NaN\n",
       "6     NaN\n",
       "dtype: float64"
      ]
     },
     "execution_count": 26,
     "metadata": {},
     "output_type": "execute_result"
    }
   ],
   "source": [
    "s5.mul(s6)"
   ]
  },
  {
   "cell_type": "code",
   "execution_count": 27,
   "id": "5b4dbdb3",
   "metadata": {},
   "outputs": [
    {
     "data": {
      "text/plain": [
       "0     inf\n",
       "1    7.00\n",
       "2    4.00\n",
       "3    3.00\n",
       "4    1.25\n",
       "5     NaN\n",
       "6     NaN\n",
       "dtype: float64"
      ]
     },
     "execution_count": 27,
     "metadata": {},
     "output_type": "execute_result"
    }
   ],
   "source": [
    "s5.div(s6)"
   ]
  },
  {
   "cell_type": "code",
   "execution_count": 28,
   "id": "9cdd6f33",
   "metadata": {},
   "outputs": [
    {
     "data": {
      "text/plain": [
       "3.0"
      ]
     },
     "execution_count": 28,
     "metadata": {},
     "output_type": "execute_result"
    }
   ],
   "source": [
    "s6.median()"
   ]
  },
  {
   "cell_type": "code",
   "execution_count": 29,
   "id": "85e57e53",
   "metadata": {},
   "outputs": [
    {
     "name": "stdout",
     "output_type": "stream",
     "text": [
      "median 3.0\n",
      "max 7\n",
      "min 0\n"
     ]
    }
   ],
   "source": [
    "print('median', s6.median())\n",
    "print('max', s6.max())\n",
    "print('min', s6.min())"
   ]
  },
  {
   "cell_type": "markdown",
   "id": "9c490cda",
   "metadata": {},
   "source": [
    "# Create Dataframe"
   ]
  },
  {
   "cell_type": "code",
   "execution_count": 31,
   "id": "05f58d45",
   "metadata": {},
   "outputs": [
    {
     "data": {
      "text/html": [
       "<div>\n",
       "<style scoped>\n",
       "    .dataframe tbody tr th:only-of-type {\n",
       "        vertical-align: middle;\n",
       "    }\n",
       "\n",
       "    .dataframe tbody tr th {\n",
       "        vertical-align: top;\n",
       "    }\n",
       "\n",
       "    .dataframe thead th {\n",
       "        text-align: right;\n",
       "    }\n",
       "</style>\n",
       "<table border=\"1\" class=\"dataframe\">\n",
       "  <thead>\n",
       "    <tr style=\"text-align: right;\">\n",
       "      <th></th>\n",
       "      <th>A</th>\n",
       "      <th>B</th>\n",
       "      <th>C</th>\n",
       "      <th>D</th>\n",
       "    </tr>\n",
       "  </thead>\n",
       "  <tbody>\n",
       "    <tr>\n",
       "      <th>2022-05-15 07:58:34.828193</th>\n",
       "      <td>0.025969</td>\n",
       "      <td>-0.904468</td>\n",
       "      <td>-0.145941</td>\n",
       "      <td>0.923810</td>\n",
       "    </tr>\n",
       "    <tr>\n",
       "      <th>2022-05-16 07:58:34.828193</th>\n",
       "      <td>-1.364648</td>\n",
       "      <td>0.409998</td>\n",
       "      <td>1.516345</td>\n",
       "      <td>-0.753542</td>\n",
       "    </tr>\n",
       "    <tr>\n",
       "      <th>2022-05-17 07:58:34.828193</th>\n",
       "      <td>1.632572</td>\n",
       "      <td>3.155310</td>\n",
       "      <td>-2.308368</td>\n",
       "      <td>-1.098301</td>\n",
       "    </tr>\n",
       "    <tr>\n",
       "      <th>2022-05-18 07:58:34.828193</th>\n",
       "      <td>0.351260</td>\n",
       "      <td>-1.491322</td>\n",
       "      <td>-1.318231</td>\n",
       "      <td>1.655517</td>\n",
       "    </tr>\n",
       "    <tr>\n",
       "      <th>2022-05-19 07:58:34.828193</th>\n",
       "      <td>-0.969997</td>\n",
       "      <td>0.344537</td>\n",
       "      <td>1.921398</td>\n",
       "      <td>1.075617</td>\n",
       "    </tr>\n",
       "    <tr>\n",
       "      <th>2022-05-20 07:58:34.828193</th>\n",
       "      <td>1.045944</td>\n",
       "      <td>0.071602</td>\n",
       "      <td>0.006977</td>\n",
       "      <td>0.580592</td>\n",
       "    </tr>\n",
       "  </tbody>\n",
       "</table>\n",
       "</div>"
      ],
      "text/plain": [
       "                                   A         B         C         D\n",
       "2022-05-15 07:58:34.828193  0.025969 -0.904468 -0.145941  0.923810\n",
       "2022-05-16 07:58:34.828193 -1.364648  0.409998  1.516345 -0.753542\n",
       "2022-05-17 07:58:34.828193  1.632572  3.155310 -2.308368 -1.098301\n",
       "2022-05-18 07:58:34.828193  0.351260 -1.491322 -1.318231  1.655517\n",
       "2022-05-19 07:58:34.828193 -0.969997  0.344537  1.921398  1.075617\n",
       "2022-05-20 07:58:34.828193  1.045944  0.071602  0.006977  0.580592"
      ]
     },
     "execution_count": 31,
     "metadata": {},
     "output_type": "execute_result"
    }
   ],
   "source": [
    "dates=pd.date_range('today',periods=6)#Define time sequence as index\n",
    "num_arr=np.random.randn(6,4)# Import numpy random array\n",
    "columns=['A', 'B', 'C', 'D']#Use the table as the column name\n",
    "df1 = pd.DataFrame(num_arr, index=dates, columns=columns)\n",
    "df1"
   ]
  },
  {
   "cell_type": "code",
   "execution_count": 32,
   "id": "c8a98fc6",
   "metadata": {},
   "outputs": [
    {
     "data": {
      "text/html": [
       "<div>\n",
       "<style scoped>\n",
       "    .dataframe tbody tr th:only-of-type {\n",
       "        vertical-align: middle;\n",
       "    }\n",
       "\n",
       "    .dataframe tbody tr th {\n",
       "        vertical-align: top;\n",
       "    }\n",
       "\n",
       "    .dataframe thead th {\n",
       "        text-align: right;\n",
       "    }\n",
       "</style>\n",
       "<table border=\"1\" class=\"dataframe\">\n",
       "  <thead>\n",
       "    <tr style=\"text-align: right;\">\n",
       "      <th></th>\n",
       "      <th>A</th>\n",
       "      <th>B</th>\n",
       "      <th>C</th>\n",
       "      <th>D</th>\n",
       "    </tr>\n",
       "  </thead>\n",
       "  <tbody>\n",
       "    <tr>\n",
       "      <th>count</th>\n",
       "      <td>6.000000</td>\n",
       "      <td>6.000000</td>\n",
       "      <td>6.000000</td>\n",
       "      <td>6.000000</td>\n",
       "    </tr>\n",
       "    <tr>\n",
       "      <th>mean</th>\n",
       "      <td>0.120183</td>\n",
       "      <td>0.264276</td>\n",
       "      <td>-0.054636</td>\n",
       "      <td>0.397282</td>\n",
       "    </tr>\n",
       "    <tr>\n",
       "      <th>std</th>\n",
       "      <td>1.148899</td>\n",
       "      <td>1.604429</td>\n",
       "      <td>1.616218</td>\n",
       "      <td>1.087685</td>\n",
       "    </tr>\n",
       "    <tr>\n",
       "      <th>min</th>\n",
       "      <td>-1.364648</td>\n",
       "      <td>-1.491322</td>\n",
       "      <td>-2.308368</td>\n",
       "      <td>-1.098301</td>\n",
       "    </tr>\n",
       "    <tr>\n",
       "      <th>25%</th>\n",
       "      <td>-0.721006</td>\n",
       "      <td>-0.660451</td>\n",
       "      <td>-1.025158</td>\n",
       "      <td>-0.420008</td>\n",
       "    </tr>\n",
       "    <tr>\n",
       "      <th>50%</th>\n",
       "      <td>0.188614</td>\n",
       "      <td>0.208070</td>\n",
       "      <td>-0.069482</td>\n",
       "      <td>0.752201</td>\n",
       "    </tr>\n",
       "    <tr>\n",
       "      <th>75%</th>\n",
       "      <td>0.872273</td>\n",
       "      <td>0.393633</td>\n",
       "      <td>1.139003</td>\n",
       "      <td>1.037665</td>\n",
       "    </tr>\n",
       "    <tr>\n",
       "      <th>max</th>\n",
       "      <td>1.632572</td>\n",
       "      <td>3.155310</td>\n",
       "      <td>1.921398</td>\n",
       "      <td>1.655517</td>\n",
       "    </tr>\n",
       "  </tbody>\n",
       "</table>\n",
       "</div>"
      ],
      "text/plain": [
       "              A         B         C         D\n",
       "count  6.000000  6.000000  6.000000  6.000000\n",
       "mean   0.120183  0.264276 -0.054636  0.397282\n",
       "std    1.148899  1.604429  1.616218  1.087685\n",
       "min   -1.364648 -1.491322 -2.308368 -1.098301\n",
       "25%   -0.721006 -0.660451 -1.025158 -0.420008\n",
       "50%    0.188614  0.208070 -0.069482  0.752201\n",
       "75%    0.872273  0.393633  1.139003  1.037665\n",
       "max    1.632572  3.155310  1.921398  1.655517"
      ]
     },
     "execution_count": 32,
     "metadata": {},
     "output_type": "execute_result"
    }
   ],
   "source": [
    "df1.describe()       "
   ]
  },
  {
   "cell_type": "code",
   "execution_count": 33,
   "id": "6202987b",
   "metadata": {},
   "outputs": [
    {
     "data": {
      "text/html": [
       "<div>\n",
       "<style scoped>\n",
       "    .dataframe tbody tr th:only-of-type {\n",
       "        vertical-align: middle;\n",
       "    }\n",
       "\n",
       "    .dataframe tbody tr th {\n",
       "        vertical-align: top;\n",
       "    }\n",
       "\n",
       "    .dataframe thead th {\n",
       "        text-align: right;\n",
       "    }\n",
       "</style>\n",
       "<table border=\"1\" class=\"dataframe\">\n",
       "  <thead>\n",
       "    <tr style=\"text-align: right;\">\n",
       "      <th></th>\n",
       "      <th>A</th>\n",
       "      <th>B</th>\n",
       "      <th>C</th>\n",
       "      <th>D</th>\n",
       "    </tr>\n",
       "  </thead>\n",
       "  <tbody>\n",
       "    <tr>\n",
       "      <th>2022-05-15 07:58:34.828193</th>\n",
       "      <td>0.025969</td>\n",
       "      <td>-0.904468</td>\n",
       "      <td>-0.145941</td>\n",
       "      <td>0.923810</td>\n",
       "    </tr>\n",
       "    <tr>\n",
       "      <th>2022-05-16 07:58:34.828193</th>\n",
       "      <td>-1.364648</td>\n",
       "      <td>0.409998</td>\n",
       "      <td>1.516345</td>\n",
       "      <td>-0.753542</td>\n",
       "    </tr>\n",
       "    <tr>\n",
       "      <th>2022-05-17 07:58:34.828193</th>\n",
       "      <td>1.632572</td>\n",
       "      <td>3.155310</td>\n",
       "      <td>-2.308368</td>\n",
       "      <td>-1.098301</td>\n",
       "    </tr>\n",
       "    <tr>\n",
       "      <th>2022-05-18 07:58:34.828193</th>\n",
       "      <td>0.351260</td>\n",
       "      <td>-1.491322</td>\n",
       "      <td>-1.318231</td>\n",
       "      <td>1.655517</td>\n",
       "    </tr>\n",
       "    <tr>\n",
       "      <th>2022-05-19 07:58:34.828193</th>\n",
       "      <td>-0.969997</td>\n",
       "      <td>0.344537</td>\n",
       "      <td>1.921398</td>\n",
       "      <td>1.075617</td>\n",
       "    </tr>\n",
       "  </tbody>\n",
       "</table>\n",
       "</div>"
      ],
      "text/plain": [
       "                                   A         B         C         D\n",
       "2022-05-15 07:58:34.828193  0.025969 -0.904468 -0.145941  0.923810\n",
       "2022-05-16 07:58:34.828193 -1.364648  0.409998  1.516345 -0.753542\n",
       "2022-05-17 07:58:34.828193  1.632572  3.155310 -2.308368 -1.098301\n",
       "2022-05-18 07:58:34.828193  0.351260 -1.491322 -1.318231  1.655517\n",
       "2022-05-19 07:58:34.828193 -0.969997  0.344537  1.921398  1.075617"
      ]
     },
     "execution_count": 33,
     "metadata": {},
     "output_type": "execute_result"
    }
   ],
   "source": [
    "df1.head()"
   ]
  },
  {
   "cell_type": "code",
   "execution_count": 34,
   "id": "5567261a",
   "metadata": {},
   "outputs": [
    {
     "data": {
      "text/html": [
       "<div>\n",
       "<style scoped>\n",
       "    .dataframe tbody tr th:only-of-type {\n",
       "        vertical-align: middle;\n",
       "    }\n",
       "\n",
       "    .dataframe tbody tr th {\n",
       "        vertical-align: top;\n",
       "    }\n",
       "\n",
       "    .dataframe thead th {\n",
       "        text-align: right;\n",
       "    }\n",
       "</style>\n",
       "<table border=\"1\" class=\"dataframe\">\n",
       "  <thead>\n",
       "    <tr style=\"text-align: right;\">\n",
       "      <th></th>\n",
       "      <th>A</th>\n",
       "      <th>B</th>\n",
       "      <th>C</th>\n",
       "      <th>D</th>\n",
       "    </tr>\n",
       "  </thead>\n",
       "  <tbody>\n",
       "    <tr>\n",
       "      <th>2022-05-16 07:58:34.828193</th>\n",
       "      <td>-1.364648</td>\n",
       "      <td>0.409998</td>\n",
       "      <td>1.516345</td>\n",
       "      <td>-0.753542</td>\n",
       "    </tr>\n",
       "    <tr>\n",
       "      <th>2022-05-17 07:58:34.828193</th>\n",
       "      <td>1.632572</td>\n",
       "      <td>3.155310</td>\n",
       "      <td>-2.308368</td>\n",
       "      <td>-1.098301</td>\n",
       "    </tr>\n",
       "    <tr>\n",
       "      <th>2022-05-18 07:58:34.828193</th>\n",
       "      <td>0.351260</td>\n",
       "      <td>-1.491322</td>\n",
       "      <td>-1.318231</td>\n",
       "      <td>1.655517</td>\n",
       "    </tr>\n",
       "    <tr>\n",
       "      <th>2022-05-19 07:58:34.828193</th>\n",
       "      <td>-0.969997</td>\n",
       "      <td>0.344537</td>\n",
       "      <td>1.921398</td>\n",
       "      <td>1.075617</td>\n",
       "    </tr>\n",
       "    <tr>\n",
       "      <th>2022-05-20 07:58:34.828193</th>\n",
       "      <td>1.045944</td>\n",
       "      <td>0.071602</td>\n",
       "      <td>0.006977</td>\n",
       "      <td>0.580592</td>\n",
       "    </tr>\n",
       "  </tbody>\n",
       "</table>\n",
       "</div>"
      ],
      "text/plain": [
       "                                   A         B         C         D\n",
       "2022-05-16 07:58:34.828193 -1.364648  0.409998  1.516345 -0.753542\n",
       "2022-05-17 07:58:34.828193  1.632572  3.155310 -2.308368 -1.098301\n",
       "2022-05-18 07:58:34.828193  0.351260 -1.491322 -1.318231  1.655517\n",
       "2022-05-19 07:58:34.828193 -0.969997  0.344537  1.921398  1.075617\n",
       "2022-05-20 07:58:34.828193  1.045944  0.071602  0.006977  0.580592"
      ]
     },
     "execution_count": 34,
     "metadata": {},
     "output_type": "execute_result"
    }
   ],
   "source": [
    "df1.tail()"
   ]
  },
  {
   "cell_type": "code",
   "execution_count": 35,
   "id": "2e2c2d99",
   "metadata": {},
   "outputs": [
    {
     "data": {
      "text/html": [
       "<div>\n",
       "<style scoped>\n",
       "    .dataframe tbody tr th:only-of-type {\n",
       "        vertical-align: middle;\n",
       "    }\n",
       "\n",
       "    .dataframe tbody tr th {\n",
       "        vertical-align: top;\n",
       "    }\n",
       "\n",
       "    .dataframe thead th {\n",
       "        text-align: right;\n",
       "    }\n",
       "</style>\n",
       "<table border=\"1\" class=\"dataframe\">\n",
       "  <thead>\n",
       "    <tr style=\"text-align: right;\">\n",
       "      <th></th>\n",
       "      <th>A</th>\n",
       "      <th>B</th>\n",
       "      <th>C</th>\n",
       "      <th>D</th>\n",
       "    </tr>\n",
       "  </thead>\n",
       "  <tbody>\n",
       "    <tr>\n",
       "      <th>2022-05-18 07:58:34.828193</th>\n",
       "      <td>0.351260</td>\n",
       "      <td>-1.491322</td>\n",
       "      <td>-1.318231</td>\n",
       "      <td>1.655517</td>\n",
       "    </tr>\n",
       "    <tr>\n",
       "      <th>2022-05-19 07:58:34.828193</th>\n",
       "      <td>-0.969997</td>\n",
       "      <td>0.344537</td>\n",
       "      <td>1.921398</td>\n",
       "      <td>1.075617</td>\n",
       "    </tr>\n",
       "    <tr>\n",
       "      <th>2022-05-20 07:58:34.828193</th>\n",
       "      <td>1.045944</td>\n",
       "      <td>0.071602</td>\n",
       "      <td>0.006977</td>\n",
       "      <td>0.580592</td>\n",
       "    </tr>\n",
       "  </tbody>\n",
       "</table>\n",
       "</div>"
      ],
      "text/plain": [
       "                                   A         B         C         D\n",
       "2022-05-18 07:58:34.828193  0.351260 -1.491322 -1.318231  1.655517\n",
       "2022-05-19 07:58:34.828193 -0.969997  0.344537  1.921398  1.075617\n",
       "2022-05-20 07:58:34.828193  1.045944  0.071602  0.006977  0.580592"
      ]
     },
     "execution_count": 35,
     "metadata": {},
     "output_type": "execute_result"
    }
   ],
   "source": [
    "df1.tail(3)"
   ]
  },
  {
   "cell_type": "code",
   "execution_count": 37,
   "id": "e5ca2a13",
   "metadata": {},
   "outputs": [
    {
     "data": {
      "text/plain": [
       "Index(['A', 'B', 'C', 'D'], dtype='object')"
      ]
     },
     "execution_count": 37,
     "metadata": {},
     "output_type": "execute_result"
    }
   ],
   "source": [
    "df1.index\n",
    "df1.columns"
   ]
  },
  {
   "cell_type": "code",
   "execution_count": 38,
   "id": "d0031e1e",
   "metadata": {},
   "outputs": [
    {
     "data": {
      "text/plain": [
       "array([[ 0.02596876, -0.90446826, -0.14594054,  0.92381021],\n",
       "       [-1.36464823,  0.40999845,  1.51634529, -0.75354171],\n",
       "       [ 1.63257213,  3.1553104 , -2.30836762, -1.09830088],\n",
       "       [ 0.3512595 , -1.49132232, -1.31823095,  1.65551652],\n",
       "       [-0.96999711,  0.34453743,  1.92139846,  1.07561666],\n",
       "       [ 1.0459441 ,  0.07160177,  0.00697692,  0.58059191]])"
      ]
     },
     "execution_count": 38,
     "metadata": {},
     "output_type": "execute_result"
    }
   ],
   "source": [
    "df1.values"
   ]
  },
  {
   "cell_type": "code",
   "execution_count": 39,
   "id": "c08be279",
   "metadata": {},
   "outputs": [],
   "source": [
    "df1.to_csv('alphabets.csv')"
   ]
  },
  {
   "cell_type": "code",
   "execution_count": 40,
   "id": "eaaa4304",
   "metadata": {},
   "outputs": [
    {
     "data": {
      "text/html": [
       "<div>\n",
       "<style scoped>\n",
       "    .dataframe tbody tr th:only-of-type {\n",
       "        vertical-align: middle;\n",
       "    }\n",
       "\n",
       "    .dataframe tbody tr th {\n",
       "        vertical-align: top;\n",
       "    }\n",
       "\n",
       "    .dataframe thead th {\n",
       "        text-align: right;\n",
       "    }\n",
       "</style>\n",
       "<table border=\"1\" class=\"dataframe\">\n",
       "  <thead>\n",
       "    <tr style=\"text-align: right;\">\n",
       "      <th></th>\n",
       "      <th>Unnamed: 0</th>\n",
       "      <th>A</th>\n",
       "      <th>B</th>\n",
       "      <th>C</th>\n",
       "      <th>D</th>\n",
       "    </tr>\n",
       "  </thead>\n",
       "  <tbody>\n",
       "    <tr>\n",
       "      <th>0</th>\n",
       "      <td>2022-05-15 07:58:34.828193</td>\n",
       "      <td>0.025969</td>\n",
       "      <td>-0.904468</td>\n",
       "      <td>-0.145941</td>\n",
       "      <td>0.923810</td>\n",
       "    </tr>\n",
       "    <tr>\n",
       "      <th>1</th>\n",
       "      <td>2022-05-16 07:58:34.828193</td>\n",
       "      <td>-1.364648</td>\n",
       "      <td>0.409998</td>\n",
       "      <td>1.516345</td>\n",
       "      <td>-0.753542</td>\n",
       "    </tr>\n",
       "    <tr>\n",
       "      <th>2</th>\n",
       "      <td>2022-05-17 07:58:34.828193</td>\n",
       "      <td>1.632572</td>\n",
       "      <td>3.155310</td>\n",
       "      <td>-2.308368</td>\n",
       "      <td>-1.098301</td>\n",
       "    </tr>\n",
       "  </tbody>\n",
       "</table>\n",
       "</div>"
      ],
      "text/plain": [
       "                   Unnamed: 0         A         B         C         D\n",
       "0  2022-05-15 07:58:34.828193  0.025969 -0.904468 -0.145941  0.923810\n",
       "1  2022-05-16 07:58:34.828193 -1.364648  0.409998  1.516345 -0.753542\n",
       "2  2022-05-17 07:58:34.828193  1.632572  3.155310 -2.308368 -1.098301"
      ]
     },
     "execution_count": 40,
     "metadata": {},
     "output_type": "execute_result"
    }
   ],
   "source": [
    "df_alphabets=pd.read_csv('alphabets.csv')\n",
    "df_alphabets.head(3)"
   ]
  },
  {
   "cell_type": "code",
   "execution_count": 44,
   "id": "4c384024",
   "metadata": {},
   "outputs": [
    {
     "data": {
      "text/html": [
       "<div>\n",
       "<style scoped>\n",
       "    .dataframe tbody tr th:only-of-type {\n",
       "        vertical-align: middle;\n",
       "    }\n",
       "\n",
       "    .dataframe tbody tr th {\n",
       "        vertical-align: top;\n",
       "    }\n",
       "\n",
       "    .dataframe thead th {\n",
       "        text-align: right;\n",
       "    }\n",
       "</style>\n",
       "<table border=\"1\" class=\"dataframe\">\n",
       "  <thead>\n",
       "    <tr style=\"text-align: right;\">\n",
       "      <th></th>\n",
       "      <th>Unnamed: 0</th>\n",
       "      <th>A</th>\n",
       "      <th>B</th>\n",
       "      <th>C</th>\n",
       "      <th>D</th>\n",
       "    </tr>\n",
       "  </thead>\n",
       "  <tbody>\n",
       "    <tr>\n",
       "      <th>0</th>\n",
       "      <td>2022-05-15 07:58:34.828</td>\n",
       "      <td>0.025969</td>\n",
       "      <td>-0.904468</td>\n",
       "      <td>-0.145941</td>\n",
       "      <td>0.923810</td>\n",
       "    </tr>\n",
       "    <tr>\n",
       "      <th>1</th>\n",
       "      <td>2022-05-16 07:58:34.828</td>\n",
       "      <td>-1.364648</td>\n",
       "      <td>0.409998</td>\n",
       "      <td>1.516345</td>\n",
       "      <td>-0.753542</td>\n",
       "    </tr>\n",
       "    <tr>\n",
       "      <th>2</th>\n",
       "      <td>2022-05-17 07:58:34.828</td>\n",
       "      <td>1.632572</td>\n",
       "      <td>3.155310</td>\n",
       "      <td>-2.308368</td>\n",
       "      <td>-1.098301</td>\n",
       "    </tr>\n",
       "    <tr>\n",
       "      <th>3</th>\n",
       "      <td>2022-05-18 07:58:34.828</td>\n",
       "      <td>0.351260</td>\n",
       "      <td>-1.491322</td>\n",
       "      <td>-1.318231</td>\n",
       "      <td>1.655517</td>\n",
       "    </tr>\n",
       "    <tr>\n",
       "      <th>4</th>\n",
       "      <td>2022-05-19 07:58:34.828</td>\n",
       "      <td>-0.969997</td>\n",
       "      <td>0.344537</td>\n",
       "      <td>1.921398</td>\n",
       "      <td>1.075617</td>\n",
       "    </tr>\n",
       "    <tr>\n",
       "      <th>5</th>\n",
       "      <td>2022-05-20 07:58:34.828</td>\n",
       "      <td>1.045944</td>\n",
       "      <td>0.071602</td>\n",
       "      <td>0.006977</td>\n",
       "      <td>0.580592</td>\n",
       "    </tr>\n",
       "  </tbody>\n",
       "</table>\n",
       "</div>"
      ],
      "text/plain": [
       "               Unnamed: 0         A         B         C         D\n",
       "0 2022-05-15 07:58:34.828  0.025969 -0.904468 -0.145941  0.923810\n",
       "1 2022-05-16 07:58:34.828 -1.364648  0.409998  1.516345 -0.753542\n",
       "2 2022-05-17 07:58:34.828  1.632572  3.155310 -2.308368 -1.098301\n",
       "3 2022-05-18 07:58:34.828  0.351260 -1.491322 -1.318231  1.655517\n",
       "4 2022-05-19 07:58:34.828 -0.969997  0.344537  1.921398  1.075617\n",
       "5 2022-05-20 07:58:34.828  1.045944  0.071602  0.006977  0.580592"
      ]
     },
     "execution_count": 44,
     "metadata": {},
     "output_type": "execute_result"
    }
   ],
   "source": [
    "df1.to_excel('alphabets.xlsx',sheet_name='Sheet1')\n",
    "df_alphabets2 = pd.read_excel('alphabets.xlsx', 'Sheet1', index_col=None, na_values=['NA'])\n",
    "df_alphabets2"
   ]
  },
  {
   "cell_type": "markdown",
   "id": "719a89c3",
   "metadata": {},
   "source": [
    "# Visualization in Pandas"
   ]
  },
  {
   "cell_type": "code",
   "execution_count": 45,
   "id": "06d8b70a",
   "metadata": {},
   "outputs": [
    {
     "data": {
      "text/plain": [
       "<AxesSubplot:>"
      ]
     },
     "execution_count": 45,
     "metadata": {},
     "output_type": "execute_result"
    },
    {
     "data": {
      "image/png": "[encoded data removed]",
      "text/plain": [
       "<Figure size 432x288 with 1 Axes>"
      ]
     },
     "metadata": {
      "needs_background": "light"
     },
     "output_type": "display_data"
    }
   ],
   "source": [
    "#series and dataframe line chart\n",
    "import numpy as np\n",
    "%matplotlib inline\n",
    "ts = pd.Series(np.random.randn(50), index=pd.date_range('today', periods=50))\n",
    "ts = ts.cumsum()\n",
    "ts.plot()"
   ]
  },
  {
   "cell_type": "code",
   "execution_count": 46,
   "id": "a04ccd7a",
   "metadata": {},
   "outputs": [
    {
     "data": {
      "text/plain": [
       "<AxesSubplot:>"
      ]
     },
     "execution_count": 46,
     "metadata": {},
     "output_type": "execute_result"
    },
    {
     "data": {
      "image/png": "[encoded data removed]",
      "text/plain": [
       "<Figure size 432x288 with 1 Axes>"
      ]
     },
     "metadata": {
      "needs_background": "light"
     },
     "output_type": "display_data"
    }
   ],
   "source": [
    "df = pd.DataFrame(np.random.randn(50, 4), index=ts.index,\n",
    "                 columns=['A', 'B', 'X', 'Y'])\n",
    "df = df.cumsum()\n",
    "df.plot()"
   ]
  },
  {
   "cell_type": "markdown",
   "id": "7fb8f8cb",
   "metadata": {},
   "source": [
    "#Remove repeated data using pandas"
   ]
  },
  {
   "cell_type": "code",
   "execution_count": 47,
   "id": "da551a14",
   "metadata": {},
   "outputs": [
    {
     "data": {
      "text/html": [
       "<div>\n",
       "<style scoped>\n",
       "    .dataframe tbody tr th:only-of-type {\n",
       "        vertical-align: middle;\n",
       "    }\n",
       "\n",
       "    .dataframe tbody tr th {\n",
       "        vertical-align: top;\n",
       "    }\n",
       "\n",
       "    .dataframe thead th {\n",
       "        text-align: right;\n",
       "    }\n",
       "</style>\n",
       "<table border=\"1\" class=\"dataframe\">\n",
       "  <thead>\n",
       "    <tr style=\"text-align: right;\">\n",
       "      <th></th>\n",
       "      <th>A</th>\n",
       "    </tr>\n",
       "  </thead>\n",
       "  <tbody>\n",
       "    <tr>\n",
       "      <th>0</th>\n",
       "      <td>1</td>\n",
       "    </tr>\n",
       "    <tr>\n",
       "      <th>1</th>\n",
       "      <td>2</td>\n",
       "    </tr>\n",
       "    <tr>\n",
       "      <th>3</th>\n",
       "      <td>4</td>\n",
       "    </tr>\n",
       "    <tr>\n",
       "      <th>5</th>\n",
       "      <td>5</td>\n",
       "    </tr>\n",
       "    <tr>\n",
       "      <th>8</th>\n",
       "      <td>6</td>\n",
       "    </tr>\n",
       "    <tr>\n",
       "      <th>10</th>\n",
       "      <td>7</td>\n",
       "    </tr>\n",
       "    <tr>\n",
       "      <th>11</th>\n",
       "      <td>8</td>\n",
       "    </tr>\n",
       "  </tbody>\n",
       "</table>\n",
       "</div>"
      ],
      "text/plain": [
       "    A\n",
       "0   1\n",
       "1   2\n",
       "3   4\n",
       "5   5\n",
       "8   6\n",
       "10  7\n",
       "11  8"
      ]
     },
     "execution_count": 47,
     "metadata": {},
     "output_type": "execute_result"
    }
   ],
   "source": [
    "df = pd. DataFrame({'A': [1, 2, 2, 4, 4, 5, 5, 5, 6, 6, 7, 8, 8]})\n",
    "df.loc[ df['A'].shift() !=df['A'] ]"
   ]
  },
  {
   "cell_type": "code",
   "execution_count": null,
   "id": "9e761029",
   "metadata": {},
   "outputs": [],
   "source": []
  }
 ],
 "metadata": {
  "kernelspec": {
   "display_name": "Python 3 (ipykernel)",
   "language": "python",
   "name": "python3"
  },
  "language_info": {
   "codemirror_mode": {
    "name": "ipython",
    "version": 3
   },
   "file_extension": ".py",
   "mimetype": "text/x-python",
   "name": "python",
   "nbconvert_exporter": "python",
   "pygments_lexer": "ipython3",
   "version": "3.9.7"
  }
 },
 "nbformat": 4,
 "nbformat_minor": 5
}
